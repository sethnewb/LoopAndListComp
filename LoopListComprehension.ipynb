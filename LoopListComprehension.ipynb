{
 "cells": [
  {
   "cell_type": "code",
   "execution_count": 3,
   "metadata": {},
   "outputs": [
    {
     "name": "stdout",
     "output_type": "stream",
     "text": [
      "[0, 2, 4, 6, 8]\n",
      "[0, 2, 4, 6, 8]\n"
     ]
    }
   ],
   "source": [
    "# Original list\n",
    "Lst = [0, 1, 2, 3, 4]\n",
    "\n",
    "# Create a new list with each index of the original list multiplied by 2\n",
    "\n",
    "# FOR LOOP\n",
    "# Create an empty dynamic list\n",
    "# for each index in the list\n",
    "#   append the value of (the index * 2) to the new list\n",
    "NwLst1 = []\n",
    "for i in Lst:\n",
    "    NwLst1.append(i * 2)\n",
    "    \n",
    "# LIST COMPREHENSION\n",
    "# New list is equal to (index * 2) for every index in the original list\n",
    "NwLst2 = [i * 2 for i in Lst]\n",
    "\n",
    "# Printing both lists shows the outcomes are the same\n",
    "print(NwLst1)\n",
    "print(NwLst2)"
   ]
  }
 ],
 "metadata": {
  "kernelspec": {
   "display_name": "Python 3",
   "language": "python",
   "name": "python3"
  },
  "language_info": {
   "codemirror_mode": {
    "name": "ipython",
    "version": 3
   },
   "file_extension": ".py",
   "mimetype": "text/x-python",
   "name": "python",
   "nbconvert_exporter": "python",
   "pygments_lexer": "ipython3",
   "version": "3.7.1"
  }
 },
 "nbformat": 4,
 "nbformat_minor": 2
}
